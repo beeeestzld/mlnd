{
 "cells": [
  {
   "cell_type": "code",
   "execution_count": 1,
   "metadata": {
    "collapsed": true
   },
   "outputs": [],
   "source": [
    "#!/usr/bin/python\n",
    "\n",
    "\"\"\" \n",
    "    Starter code for exploring the Enron dataset (emails + finances);\n",
    "    loads up the dataset (pickled dict of dicts).\n",
    "    The dataset has the form:\n",
    "    enron_data[\"LASTNAME FIRSTNAME MIDDLEINITIAL\"] = { features_dict }\n",
    "    {features_dict} is a dictionary of features associated with that person.\n",
    "    You should explore features_dict as part of the mini-project,\n",
    "    but here's an example to get you started:\n",
    "    enron_data[\"SKILLING JEFFREY K\"][\"bonus\"] = 5600000\n",
    "    \n",
    "\"\"\"\n",
    "\n",
    "import pickle\n",
    "\n",
    "enron_data = pickle.load(open(\"final_project_dataset.pkl\", \"r\"))"
   ]
  },
  {
   "cell_type": "markdown",
   "metadata": {},
   "source": [
    "# How many data points (i.e. people) are in the Enron dataset?"
   ]
  },
  {
   "cell_type": "code",
   "execution_count": 3,
   "metadata": {
    "collapsed": false,
    "scrolled": true
   },
   "outputs": [
    {
     "name": "stdout",
     "output_type": "stream",
     "text": [
      "146\n"
     ]
    }
   ],
   "source": [
    "print len(enron_data)"
   ]
  },
  {
   "cell_type": "markdown",
   "metadata": {},
   "source": [
    "# For each person, how many features are available?"
   ]
  },
  {
   "cell_type": "code",
   "execution_count": 8,
   "metadata": {
    "collapsed": false
   },
   "outputs": [
    {
     "name": "stdout",
     "output_type": "stream",
     "text": [
      "21\n"
     ]
    }
   ],
   "source": [
    "print len(enron_data['ALLEN PHILLIP K'])"
   ]
  },
  {
   "cell_type": "markdown",
   "metadata": {},
   "source": [
    "# The “poi” feature records whether the person is a person of interest, according to our definition. How many POIs are there in the E+F dataset?"
   ]
  },
  {
   "cell_type": "code",
   "execution_count": 12,
   "metadata": {
    "collapsed": false
   },
   "outputs": [
    {
     "name": "stdout",
     "output_type": "stream",
     "text": [
      "18\n"
     ]
    }
   ],
   "source": [
    "count = 0\n",
    "for person in enron_data.keys():\n",
    "    if enron_data[person]['poi'] == 1:\n",
    "        count += 1\n",
    "        \n",
    "print count"
   ]
  },
  {
   "cell_type": "markdown",
   "metadata": {},
   "source": [
    "# How many POIS were there total?"
   ]
  },
  {
   "cell_type": "code",
   "execution_count": 24,
   "metadata": {
    "collapsed": false
   },
   "outputs": [],
   "source": [
    "'''\n",
    "We compiled a list of all POI names (in poi_names.txt) and associated email addresses (in .poi_email_addresses.py).\n",
    "How many POI’s were there total? (Use the names file, not the email addresses, \n",
    "                                  since many folks have more than one address and a few didn’t work for Enron, \n",
    "                                  so we don’t have their emails.)\n",
    "'''\n",
    "\n",
    "f = open('poi_names.txt')\n",
    "poi_names = []\n",
    "for line in f:\n",
    "    if line[0] == '(':\n",
    "        poi_names.append(line.strip('\\n'))\n",
    "f.close()"
   ]
  },
  {
   "cell_type": "code",
   "execution_count": 25,
   "metadata": {
    "collapsed": false
   },
   "outputs": [
    {
     "data": {
      "text/plain": [
       "['(y) Lay, Kenneth',\n",
       " '(y) Skilling, Jeffrey',\n",
       " '(n) Howard, Kevin',\n",
       " '(n) Krautz, Michael',\n",
       " '(n) Yeager, Scott',\n",
       " '(n) Hirko, Joseph',\n",
       " '(n) Shelby, Rex',\n",
       " '(n) Bermingham, David',\n",
       " '(n) Darby, Giles',\n",
       " '(n) Mulgrew, Gary',\n",
       " '(n) Bayley, Daniel',\n",
       " '(n) Brown, James',\n",
       " '(n) Furst, Robert',\n",
       " '(n) Fuhs, William',\n",
       " '(n) Causey, Richard',\n",
       " '(n) Calger, Christopher',\n",
       " '(n) DeSpain, Timothy',\n",
       " '(n) Hannon, Kevin',\n",
       " '(n) Koenig, Mark',\n",
       " '(y) Forney, John',\n",
       " '(n) Rice, Kenneth',\n",
       " '(n) Rieker, Paula',\n",
       " '(n) Fastow, Lea',\n",
       " '(n) Fastow, Andrew',\n",
       " '(y) Delainey, David',\n",
       " '(n) Glisan, Ben',\n",
       " '(n) Richter, Jeffrey',\n",
       " '(n) Lawyer, Larry',\n",
       " '(n) Belden, Timothy',\n",
       " '(n) Kopper, Michael',\n",
       " '(n) Duncan, David',\n",
       " '(n) Bowen, Raymond',\n",
       " '(n) Colwell, Wesley',\n",
       " '(n) Boyle, Dan',\n",
       " '(n) Loehr, Christopher']"
      ]
     },
     "execution_count": 25,
     "metadata": {},
     "output_type": "execute_result"
    }
   ],
   "source": [
    "poi_names"
   ]
  },
  {
   "cell_type": "code",
   "execution_count": 26,
   "metadata": {
    "collapsed": false
   },
   "outputs": [
    {
     "name": "stdout",
     "output_type": "stream",
     "text": [
      "35\n"
     ]
    }
   ],
   "source": [
    "print len(poi_names)"
   ]
  },
  {
   "cell_type": "markdown",
   "metadata": {},
   "source": [
    "# What is the total value of the stock belonging to James Prentice?"
   ]
  },
  {
   "cell_type": "code",
   "execution_count": 32,
   "metadata": {
    "collapsed": false
   },
   "outputs": [
    {
     "name": "stdout",
     "output_type": "stream",
     "text": [
      "['salary', 'to_messages', 'deferral_payments', 'total_payments', 'exercised_stock_options', 'bonus', 'restricted_stock', 'shared_receipt_with_poi', 'restricted_stock_deferred', 'total_stock_value', 'expenses', 'loan_advances', 'from_messages', 'other', 'from_this_person_to_poi', 'poi', 'director_fees', 'deferred_income', 'long_term_incentive', 'email_address', 'from_poi_to_this_person']\n"
     ]
    }
   ],
   "source": [
    "print enron_data['PRENTICE JAMES'].keys()"
   ]
  },
  {
   "cell_type": "code",
   "execution_count": 33,
   "metadata": {
    "collapsed": false
   },
   "outputs": [
    {
     "name": "stdout",
     "output_type": "stream",
     "text": [
      "208809\n"
     ]
    }
   ],
   "source": [
    "print enron_data['PRENTICE JAMES']['restricted_stock']"
   ]
  },
  {
   "cell_type": "code",
   "execution_count": 37,
   "metadata": {
    "collapsed": false
   },
   "outputs": [
    {
     "name": "stdout",
     "output_type": "stream",
     "text": [
      "886231\n"
     ]
    }
   ],
   "source": [
    "print enron_data['PRENTICE JAMES']['exercised_stock_options']"
   ]
  },
  {
   "cell_type": "code",
   "execution_count": 38,
   "metadata": {
    "collapsed": false
   },
   "outputs": [
    {
     "name": "stdout",
     "output_type": "stream",
     "text": [
      "1095040\n"
     ]
    }
   ],
   "source": [
    "print enron_data['PRENTICE JAMES']['restricted_stock'] + enron_data['PRENTICE JAMES']['exercised_stock_options']"
   ]
  },
  {
   "cell_type": "markdown",
   "metadata": {},
   "source": [
    "# How many messages do we have from  Wesley Colwell to POIs?"
   ]
  },
  {
   "cell_type": "code",
   "execution_count": 39,
   "metadata": {
    "collapsed": false
   },
   "outputs": [
    {
     "name": "stdout",
     "output_type": "stream",
     "text": [
      "['salary', 'to_messages', 'deferral_payments', 'total_payments', 'exercised_stock_options', 'bonus', 'restricted_stock', 'shared_receipt_with_poi', 'restricted_stock_deferred', 'total_stock_value', 'expenses', 'loan_advances', 'from_messages', 'other', 'from_this_person_to_poi', 'poi', 'director_fees', 'deferred_income', 'long_term_incentive', 'email_address', 'from_poi_to_this_person']\n"
     ]
    }
   ],
   "source": [
    "print enron_data['COLWELL WESLEY'].keys()"
   ]
  },
  {
   "cell_type": "code",
   "execution_count": 40,
   "metadata": {
    "collapsed": false
   },
   "outputs": [
    {
     "name": "stdout",
     "output_type": "stream",
     "text": [
      "11\n"
     ]
    }
   ],
   "source": [
    "print enron_data['COLWELL WESLEY']['from_this_person_to_poi']"
   ]
  },
  {
   "cell_type": "markdown",
   "metadata": {},
   "source": [
    "# What's the value of stock options exercised by Jeff Skilling?"
   ]
  },
  {
   "cell_type": "code",
   "execution_count": 42,
   "metadata": {
    "collapsed": false
   },
   "outputs": [
    {
     "name": "stdout",
     "output_type": "stream",
     "text": [
      "MCMAHON JEFFREY\n",
      "SHANKMAN JEFFREY A\n",
      "SKILLING JEFFREY K\n",
      "SHERRICK JEFFREY B\n",
      "DONAHUE JR JEFFREY M\n"
     ]
    }
   ],
   "source": [
    "for person in enron_data.keys():\n",
    "    if 'JEFF' in person:\n",
    "        print person"
   ]
  },
  {
   "cell_type": "code",
   "execution_count": 43,
   "metadata": {
    "collapsed": false
   },
   "outputs": [
    {
     "name": "stdout",
     "output_type": "stream",
     "text": [
      "['salary', 'to_messages', 'deferral_payments', 'total_payments', 'exercised_stock_options', 'bonus', 'restricted_stock', 'shared_receipt_with_poi', 'restricted_stock_deferred', 'total_stock_value', 'expenses', 'loan_advances', 'from_messages', 'other', 'from_this_person_to_poi', 'poi', 'director_fees', 'deferred_income', 'long_term_incentive', 'email_address', 'from_poi_to_this_person']\n"
     ]
    }
   ],
   "source": [
    "print enron_data['SKILLING JEFFREY K'].keys()"
   ]
  },
  {
   "cell_type": "code",
   "execution_count": 44,
   "metadata": {
    "collapsed": false
   },
   "outputs": [
    {
     "name": "stdout",
     "output_type": "stream",
     "text": [
      "19250000\n"
     ]
    }
   ],
   "source": [
    "print enron_data['SKILLING JEFFREY K']['exercised_stock_options']"
   ]
  },
  {
   "cell_type": "markdown",
   "metadata": {},
   "source": []
  }
 ],
 "metadata": {
  "kernelspec": {
   "display_name": "Python 2",
   "language": "python",
   "name": "python2"
  },
  "language_info": {
   "codemirror_mode": {
    "name": "ipython",
    "version": 2
   },
   "file_extension": ".py",
   "mimetype": "text/x-python",
   "name": "python",
   "nbconvert_exporter": "python",
   "pygments_lexer": "ipython2",
   "version": "2.7.13"
  }
 },
 "nbformat": 4,
 "nbformat_minor": 2
}
